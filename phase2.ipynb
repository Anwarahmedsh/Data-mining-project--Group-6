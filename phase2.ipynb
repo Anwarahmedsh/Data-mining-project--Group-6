{
 "cells": [
  {
   "cell_type": "markdown",
   "id": "1ac9558e",
   "metadata": {},
   "source": [
    "# Dataset Description\n",
    "\n",
    "\n",
    "\n",
    "# THE GOAL :\n",
    "\n",
    "The Breast Cancer Survival Rate Prediction Model aims to develop a machine learning-based model that can accurately estimate the survival rate of breast cancer patients. By analyzing patient data such as tumor size, tumor grade and other clinical information, and patient age, martial status, race. this model can assist doctors in early intervention, personalized treatment, improved patient counseling, research advancements, resource allocation, and continuous improvement in breast cancer care.\n",
    "\n",
    "the Prediction Model is developed using two techniques: \n",
    "1- Classification:\n",
    "Classification algorithms are specifically designed to predict survival status of breast cancer patients.\n",
    "2-Clustering \n",
    "Clustering algorithms can be used to identify groups of breast cancer patients based on similarities in their data. This helps in understanding different subtypes or risk groups within the patient population.\n",
    "\n",
    "\n",
    "# The source of the dataset\n",
    "from kaggle website , URL:\n",
    "https://www.kaggle.com/datasets/reihanenamdari/breast-cancer\n",
    "\n",
    "\n",
    "# General Information \n",
    "\n",
    "- Number of attributes : 16\n",
    "- Number of objects : 4025 \n",
    "- The class name : survival months.\n",
    "- Types of attribute :\n"
   ]
  },
  {
   "cell_type": "markdown",
   "id": "09c3aa06",
   "metadata": {},
   "source": [
    "| Attribute name | Description | Data type |Possible values |\n",
    "|----------------|--------------|---------------|-----------|\n",
    "| Age | age of the patients | numeric| between 30 - 70 |\n",
    "| Race | classification of people based on their physical characteristics such as skin color | nominal | white or other|\n",
    "| Marital status | refers to wether the patient is married ,single or divorced etc | nominal | Divorced ,Married, Separated    Single , Widowed|\n",
    "| T stage | describe the tumors size and if it has spread to the skin or to the chest wall under the breast. Higher T numbers mean a larger tumor | ordinal | T1,T2,T3,T4|\n",
    "| N stage | indicates whether the cancer has spread to lymph nodes near the breast | ordinal |N1 ,N2,N3|\n",
    "| 6th stage | describes invasive breast cancer | Ordinal |IIA ,  IIB , IIIA , IIIB , IIIC|\n",
    "| Differentiation |describes how well developed the tumour cells are and how cancer cells are organised in the tumour tissue | ordinal |  Moderately differentiated  , Poorly differentiated       ,Undifferentiated  , Well differentiated|\n",
    "| Grade | depends on what the cells look like, lower grade indicates slower-growing cancer unlike higher grades | ordinal | 1,2 ,3, 4|\n",
    "| A stage | Regional : aneoplasm that has extended, Distant : aneoplasm that has spread to parts of the body remote from | asymmetric binary | Distant, Regional|\n",
    "| Tumor size | Each indicates exact size of the tumor in millimeters  | ordinal |FROM 1 TO 140 |\n",
    "| Estrogen status | The cancer is estrogen receptor-positive if it has receptors for estrogen  | asymmetric binary |Negative, Positive|\n",
    "| Progesterone status | The cancer is progesterone receptor-positive if it has progesterone receptors. | asymmetric binary |Negative , Positive|\n",
    "| Regional Node Examined | the number of the regional node that have been examined |numeric  | FROM 1 TO 61|\n",
    "| Reginol Node Positive | the number of the regional node that heve been confirmed to have cancer |numeric | FROM 1 TO 46|\n",
    "| Survival Months | It predicts the number of months to live based on the patient state | numeric | FROM 1 TO 107|\n",
    "| Status |  describes weather the patient is dead or alive | asymmetric binary | Dead , alive |\n"
   ]
  },
  {
   "cell_type": "markdown",
   "id": "c17ab3a0",
   "metadata": {},
   "source": []
  },
  {
   "cell_type": "code",
   "execution_count": null,
   "id": "ae23dd5a",
   "metadata": {},
   "outputs": [],
   "source": []
  },
  {
   "cell_type": "code",
   "execution_count": null,
   "id": "57b9f7fd",
   "metadata": {},
   "outputs": [],
   "source": []
  }
 ],
 "metadata": {
  "kernelspec": {
   "display_name": "R",
   "language": "R",
   "name": "ir"
  },
  "language_info": {
   "codemirror_mode": "r",
   "file_extension": ".r",
   "mimetype": "text/x-r-source",
   "name": "R",
   "pygments_lexer": "r",
   "version": "3.6.1"
  }
 },
 "nbformat": 4,
 "nbformat_minor": 5
}
